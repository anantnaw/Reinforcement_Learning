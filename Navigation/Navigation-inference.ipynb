{
 "cells": [
  {
   "cell_type": "markdown",
   "metadata": {},
   "source": [
    "# Navigation\n",
    "\n",
    "---\n",
    "\n",
    "\n",
    "\n",
    "### 1. Start the Environment\n",
    "\n",
    "W"
   ]
  },
  {
   "cell_type": "code",
   "execution_count": 1,
   "metadata": {},
   "outputs": [
    {
     "name": "stdout",
     "output_type": "stream",
     "text": [
      "Collecting tensorflow==1.7.1 from https://storage.googleapis.com/tensorflow/mac/cpu/tensorflow-1.7.1-py3-none-any.whl\n",
      "  Using cached https://storage.googleapis.com/tensorflow/mac/cpu/tensorflow-1.7.1-py3-none-any.whl\n",
      "Requirement already satisfied, skipping upgrade: protobuf>=3.4.0 in /Library/Frameworks/Python.framework/Versions/3.6/lib/python3.6/site-packages (from tensorflow==1.7.1) (3.5.2)\n",
      "Requirement already satisfied, skipping upgrade: gast>=0.2.0 in /Library/Frameworks/Python.framework/Versions/3.6/lib/python3.6/site-packages (from tensorflow==1.7.1) (0.2.2)\n",
      "Requirement already satisfied, skipping upgrade: termcolor>=1.1.0 in /Library/Frameworks/Python.framework/Versions/3.6/lib/python3.6/site-packages (from tensorflow==1.7.1) (1.1.0)\n",
      "Requirement already satisfied, skipping upgrade: tensorboard<1.8.0,>=1.7.0 in /Library/Frameworks/Python.framework/Versions/3.6/lib/python3.6/site-packages (from tensorflow==1.7.1) (1.7.0)\n",
      "Requirement already satisfied, skipping upgrade: six>=1.10.0 in /Library/Frameworks/Python.framework/Versions/3.6/lib/python3.6/site-packages (from tensorflow==1.7.1) (1.12.0)\n",
      "Requirement already satisfied, skipping upgrade: absl-py>=0.1.6 in /Library/Frameworks/Python.framework/Versions/3.6/lib/python3.6/site-packages (from tensorflow==1.7.1) (0.7.1)\n",
      "Requirement already satisfied, skipping upgrade: wheel>=0.26 in /Library/Frameworks/Python.framework/Versions/3.6/lib/python3.6/site-packages (from tensorflow==1.7.1) (0.33.4)\n",
      "Requirement already satisfied, skipping upgrade: grpcio>=1.8.6 in /Library/Frameworks/Python.framework/Versions/3.6/lib/python3.6/site-packages (from tensorflow==1.7.1) (1.11.0)\n",
      "Requirement already satisfied, skipping upgrade: numpy>=1.13.3 in /Library/Frameworks/Python.framework/Versions/3.6/lib/python3.6/site-packages (from tensorflow==1.7.1) (1.14.5)\n",
      "Requirement already satisfied, skipping upgrade: astor>=0.6.0 in /Library/Frameworks/Python.framework/Versions/3.6/lib/python3.6/site-packages (from tensorflow==1.7.1) (0.8.0)\n",
      "Requirement already satisfied, skipping upgrade: setuptools in /Library/Frameworks/Python.framework/Versions/3.6/lib/python3.6/site-packages (from protobuf>=3.4.0->tensorflow==1.7.1) (40.6.2)\n",
      "Requirement already satisfied, skipping upgrade: html5lib==0.9999999 in /Library/Frameworks/Python.framework/Versions/3.6/lib/python3.6/site-packages (from tensorboard<1.8.0,>=1.7.0->tensorflow==1.7.1) (0.9999999)\n",
      "Requirement already satisfied, skipping upgrade: werkzeug>=0.11.10 in /Library/Frameworks/Python.framework/Versions/3.6/lib/python3.6/site-packages (from tensorboard<1.8.0,>=1.7.0->tensorflow==1.7.1) (0.15.4)\n",
      "Requirement already satisfied, skipping upgrade: markdown>=2.6.8 in /Library/Frameworks/Python.framework/Versions/3.6/lib/python3.6/site-packages (from tensorboard<1.8.0,>=1.7.0->tensorflow==1.7.1) (3.1.1)\n",
      "Requirement already satisfied, skipping upgrade: bleach==1.5.0 in /Library/Frameworks/Python.framework/Versions/3.6/lib/python3.6/site-packages (from tensorboard<1.8.0,>=1.7.0->tensorflow==1.7.1) (1.5.0)\n",
      "Installing collected packages: tensorflow\n",
      "  Found existing installation: tensorflow 1.7.1\n",
      "    Uninstalling tensorflow-1.7.1:\n",
      "      Successfully uninstalled tensorflow-1.7.1\n",
      "Successfully installed tensorflow-1.7.1\n",
      "\u001b[33mYou are using pip version 18.1, however version 19.1.1 is available.\n",
      "You should consider upgrading via the 'pip install --upgrade pip' command.\u001b[0m\n"
     ]
    }
   ],
   "source": [
    "!pip3 install --upgrade https://storage.googleapis.com/tensorflow/mac/cpu/tensorflow-1.7.1-py3-none-any.whl"
   ]
  },
  {
   "cell_type": "code",
   "execution_count": 4,
   "metadata": {},
   "outputs": [
    {
     "name": "stdout",
     "output_type": "stream",
     "text": [
      "Collecting mlagents==0.7.0\n",
      "\u001b[?25l  Downloading https://files.pythonhosted.org/packages/2d/69/e2be6ea5664403832d2fb55fca3287eab5bce45c2ba8a1e7c8fa29217f9f/mlagents-0.7.0-py3-none-any.whl (97kB)\n",
      "\u001b[K    100% |████████████████████████████████| 102kB 2.6MB/s a 0:00:01\n",
      "\u001b[?25hRequirement already satisfied, skipping upgrade: jupyter in /Library/Frameworks/Python.framework/Versions/3.6/lib/python3.6/site-packages (from mlagents==0.7.0) (1.0.0)\n",
      "Requirement already satisfied, skipping upgrade: tensorflow<1.8,>=1.7 in /Library/Frameworks/Python.framework/Versions/3.6/lib/python3.6/site-packages (from mlagents==0.7.0) (1.7.1)\n",
      "Requirement already satisfied, skipping upgrade: numpy<=1.14.5,>=1.13.3 in /Library/Frameworks/Python.framework/Versions/3.6/lib/python3.6/site-packages (from mlagents==0.7.0) (1.14.5)\n",
      "Requirement already satisfied, skipping upgrade: protobuf<3.7,>=3.6 in /Library/Frameworks/Python.framework/Versions/3.6/lib/python3.6/site-packages (from mlagents==0.7.0) (3.6.1)\n",
      "Requirement already satisfied, skipping upgrade: pytest<4.0.0,>=3.2.2 in /Library/Frameworks/Python.framework/Versions/3.6/lib/python3.6/site-packages (from mlagents==0.7.0) (3.10.1)\n",
      "Requirement already satisfied, skipping upgrade: grpcio<1.12.0,>=1.11.0 in /Library/Frameworks/Python.framework/Versions/3.6/lib/python3.6/site-packages (from mlagents==0.7.0) (1.11.0)\n",
      "Requirement already satisfied, skipping upgrade: pyyaml in /Library/Frameworks/Python.framework/Versions/3.6/lib/python3.6/site-packages (from mlagents==0.7.0) (5.1.1)\n",
      "Requirement already satisfied, skipping upgrade: docopt in /Library/Frameworks/Python.framework/Versions/3.6/lib/python3.6/site-packages (from mlagents==0.7.0) (0.6.2)\n",
      "Requirement already satisfied, skipping upgrade: matplotlib in /Library/Frameworks/Python.framework/Versions/3.6/lib/python3.6/site-packages (from mlagents==0.7.0) (3.1.1)\n",
      "Requirement already satisfied, skipping upgrade: Pillow>=4.2.1 in /Library/Frameworks/Python.framework/Versions/3.6/lib/python3.6/site-packages (from mlagents==0.7.0) (6.1.0)\n",
      "Requirement already satisfied, skipping upgrade: notebook in /Library/Frameworks/Python.framework/Versions/3.6/lib/python3.6/site-packages (from jupyter->mlagents==0.7.0) (5.7.8)\n",
      "Requirement already satisfied, skipping upgrade: nbconvert in /Library/Frameworks/Python.framework/Versions/3.6/lib/python3.6/site-packages (from jupyter->mlagents==0.7.0) (5.5.0)\n",
      "Requirement already satisfied, skipping upgrade: qtconsole in /Library/Frameworks/Python.framework/Versions/3.6/lib/python3.6/site-packages (from jupyter->mlagents==0.7.0) (4.5.1)\n",
      "Requirement already satisfied, skipping upgrade: ipykernel in /Library/Frameworks/Python.framework/Versions/3.6/lib/python3.6/site-packages (from jupyter->mlagents==0.7.0) (5.1.1)\n",
      "Requirement already satisfied, skipping upgrade: ipywidgets in /Library/Frameworks/Python.framework/Versions/3.6/lib/python3.6/site-packages (from jupyter->mlagents==0.7.0) (7.5.0)\n",
      "Requirement already satisfied, skipping upgrade: jupyter-console in /Library/Frameworks/Python.framework/Versions/3.6/lib/python3.6/site-packages (from jupyter->mlagents==0.7.0) (6.0.0)\n",
      "Requirement already satisfied, skipping upgrade: astor>=0.6.0 in /Library/Frameworks/Python.framework/Versions/3.6/lib/python3.6/site-packages (from tensorflow<1.8,>=1.7->mlagents==0.7.0) (0.8.0)\n",
      "Requirement already satisfied, skipping upgrade: six>=1.10.0 in /Library/Frameworks/Python.framework/Versions/3.6/lib/python3.6/site-packages (from tensorflow<1.8,>=1.7->mlagents==0.7.0) (1.12.0)\n",
      "Requirement already satisfied, skipping upgrade: termcolor>=1.1.0 in /Library/Frameworks/Python.framework/Versions/3.6/lib/python3.6/site-packages (from tensorflow<1.8,>=1.7->mlagents==0.7.0) (1.1.0)\n",
      "Requirement already satisfied, skipping upgrade: gast>=0.2.0 in /Library/Frameworks/Python.framework/Versions/3.6/lib/python3.6/site-packages (from tensorflow<1.8,>=1.7->mlagents==0.7.0) (0.2.2)\n",
      "Requirement already satisfied, skipping upgrade: tensorboard<1.8.0,>=1.7.0 in /Library/Frameworks/Python.framework/Versions/3.6/lib/python3.6/site-packages (from tensorflow<1.8,>=1.7->mlagents==0.7.0) (1.7.0)\n",
      "Requirement already satisfied, skipping upgrade: absl-py>=0.1.6 in /Library/Frameworks/Python.framework/Versions/3.6/lib/python3.6/site-packages (from tensorflow<1.8,>=1.7->mlagents==0.7.0) (0.7.1)\n",
      "Requirement already satisfied, skipping upgrade: wheel>=0.26 in /Library/Frameworks/Python.framework/Versions/3.6/lib/python3.6/site-packages (from tensorflow<1.8,>=1.7->mlagents==0.7.0) (0.33.4)\n",
      "Requirement already satisfied, skipping upgrade: setuptools in /Library/Frameworks/Python.framework/Versions/3.6/lib/python3.6/site-packages (from protobuf<3.7,>=3.6->mlagents==0.7.0) (40.6.2)\n",
      "Requirement already satisfied, skipping upgrade: pluggy>=0.7 in /Library/Frameworks/Python.framework/Versions/3.6/lib/python3.6/site-packages (from pytest<4.0.0,>=3.2.2->mlagents==0.7.0) (0.12.0)\n",
      "Requirement already satisfied, skipping upgrade: atomicwrites>=1.0 in /Library/Frameworks/Python.framework/Versions/3.6/lib/python3.6/site-packages (from pytest<4.0.0,>=3.2.2->mlagents==0.7.0) (1.3.0)\n",
      "Requirement already satisfied, skipping upgrade: attrs>=17.4.0 in /Library/Frameworks/Python.framework/Versions/3.6/lib/python3.6/site-packages (from pytest<4.0.0,>=3.2.2->mlagents==0.7.0) (19.1.0)\n",
      "Requirement already satisfied, skipping upgrade: more-itertools>=4.0.0 in /Library/Frameworks/Python.framework/Versions/3.6/lib/python3.6/site-packages (from pytest<4.0.0,>=3.2.2->mlagents==0.7.0) (7.1.0)\n",
      "Requirement already satisfied, skipping upgrade: py>=1.5.0 in /Library/Frameworks/Python.framework/Versions/3.6/lib/python3.6/site-packages (from pytest<4.0.0,>=3.2.2->mlagents==0.7.0) (1.8.0)\n",
      "Requirement already satisfied, skipping upgrade: kiwisolver>=1.0.1 in /Library/Frameworks/Python.framework/Versions/3.6/lib/python3.6/site-packages (from matplotlib->mlagents==0.7.0) (1.1.0)\n",
      "Requirement already satisfied, skipping upgrade: cycler>=0.10 in /Library/Frameworks/Python.framework/Versions/3.6/lib/python3.6/site-packages (from matplotlib->mlagents==0.7.0) (0.10.0)\n",
      "Requirement already satisfied, skipping upgrade: pyparsing!=2.0.4,!=2.1.2,!=2.1.6,>=2.0.1 in /Library/Frameworks/Python.framework/Versions/3.6/lib/python3.6/site-packages (from matplotlib->mlagents==0.7.0) (2.4.0)\n",
      "Requirement already satisfied, skipping upgrade: python-dateutil>=2.1 in /Library/Frameworks/Python.framework/Versions/3.6/lib/python3.6/site-packages (from matplotlib->mlagents==0.7.0) (2.8.0)\n",
      "Requirement already satisfied, skipping upgrade: traitlets>=4.2.1 in /Library/Frameworks/Python.framework/Versions/3.6/lib/python3.6/site-packages (from notebook->jupyter->mlagents==0.7.0) (4.3.2)\n",
      "Requirement already satisfied, skipping upgrade: jupyter-client>=5.2.0 in /Library/Frameworks/Python.framework/Versions/3.6/lib/python3.6/site-packages (from notebook->jupyter->mlagents==0.7.0) (5.2.4)\n",
      "Requirement already satisfied, skipping upgrade: jinja2 in /Library/Frameworks/Python.framework/Versions/3.6/lib/python3.6/site-packages (from notebook->jupyter->mlagents==0.7.0) (2.10.1)\n",
      "Requirement already satisfied, skipping upgrade: pyzmq>=17 in /Library/Frameworks/Python.framework/Versions/3.6/lib/python3.6/site-packages (from notebook->jupyter->mlagents==0.7.0) (18.0.2)\n",
      "Requirement already satisfied, skipping upgrade: prometheus-client in /Library/Frameworks/Python.framework/Versions/3.6/lib/python3.6/site-packages (from notebook->jupyter->mlagents==0.7.0) (0.7.1)\n",
      "Requirement already satisfied, skipping upgrade: nbformat in /Library/Frameworks/Python.framework/Versions/3.6/lib/python3.6/site-packages (from notebook->jupyter->mlagents==0.7.0) (4.4.0)\n",
      "Requirement already satisfied, skipping upgrade: terminado>=0.8.1 in /Library/Frameworks/Python.framework/Versions/3.6/lib/python3.6/site-packages (from notebook->jupyter->mlagents==0.7.0) (0.8.2)\n",
      "Requirement already satisfied, skipping upgrade: Send2Trash in /Library/Frameworks/Python.framework/Versions/3.6/lib/python3.6/site-packages (from notebook->jupyter->mlagents==0.7.0) (1.5.0)\n",
      "Requirement already satisfied, skipping upgrade: jupyter-core>=4.4.0 in /Library/Frameworks/Python.framework/Versions/3.6/lib/python3.6/site-packages (from notebook->jupyter->mlagents==0.7.0) (4.5.0)\n",
      "Requirement already satisfied, skipping upgrade: ipython-genutils in /Library/Frameworks/Python.framework/Versions/3.6/lib/python3.6/site-packages (from notebook->jupyter->mlagents==0.7.0) (0.2.0)\n",
      "Requirement already satisfied, skipping upgrade: tornado<7,>=4.1 in /Library/Frameworks/Python.framework/Versions/3.6/lib/python3.6/site-packages (from notebook->jupyter->mlagents==0.7.0) (6.0.3)\n"
     ]
    },
    {
     "name": "stdout",
     "output_type": "stream",
     "text": [
      "Requirement already satisfied, skipping upgrade: pygments in /Library/Frameworks/Python.framework/Versions/3.6/lib/python3.6/site-packages (from nbconvert->jupyter->mlagents==0.7.0) (2.4.2)\n",
      "Requirement already satisfied, skipping upgrade: bleach in /Library/Frameworks/Python.framework/Versions/3.6/lib/python3.6/site-packages (from nbconvert->jupyter->mlagents==0.7.0) (1.5.0)\n",
      "Requirement already satisfied, skipping upgrade: pandocfilters>=1.4.1 in /Library/Frameworks/Python.framework/Versions/3.6/lib/python3.6/site-packages (from nbconvert->jupyter->mlagents==0.7.0) (1.4.2)\n",
      "Requirement already satisfied, skipping upgrade: defusedxml in /Library/Frameworks/Python.framework/Versions/3.6/lib/python3.6/site-packages (from nbconvert->jupyter->mlagents==0.7.0) (0.6.0)\n",
      "Requirement already satisfied, skipping upgrade: testpath in /Library/Frameworks/Python.framework/Versions/3.6/lib/python3.6/site-packages (from nbconvert->jupyter->mlagents==0.7.0) (0.4.2)\n",
      "Requirement already satisfied, skipping upgrade: entrypoints>=0.2.2 in /Library/Frameworks/Python.framework/Versions/3.6/lib/python3.6/site-packages (from nbconvert->jupyter->mlagents==0.7.0) (0.3)\n",
      "Requirement already satisfied, skipping upgrade: mistune>=0.8.1 in /Library/Frameworks/Python.framework/Versions/3.6/lib/python3.6/site-packages (from nbconvert->jupyter->mlagents==0.7.0) (0.8.4)\n",
      "Requirement already satisfied, skipping upgrade: ipython>=5.0.0 in /Library/Frameworks/Python.framework/Versions/3.6/lib/python3.6/site-packages (from ipykernel->jupyter->mlagents==0.7.0) (7.6.1)\n",
      "Requirement already satisfied, skipping upgrade: widgetsnbextension~=3.5.0 in /Library/Frameworks/Python.framework/Versions/3.6/lib/python3.6/site-packages (from ipywidgets->jupyter->mlagents==0.7.0) (3.5.0)\n",
      "Requirement already satisfied, skipping upgrade: prompt-toolkit<2.1.0,>=2.0.0 in /Library/Frameworks/Python.framework/Versions/3.6/lib/python3.6/site-packages (from jupyter-console->jupyter->mlagents==0.7.0) (2.0.9)\n",
      "Requirement already satisfied, skipping upgrade: werkzeug>=0.11.10 in /Library/Frameworks/Python.framework/Versions/3.6/lib/python3.6/site-packages (from tensorboard<1.8.0,>=1.7.0->tensorflow<1.8,>=1.7->mlagents==0.7.0) (0.15.4)\n",
      "Requirement already satisfied, skipping upgrade: markdown>=2.6.8 in /Library/Frameworks/Python.framework/Versions/3.6/lib/python3.6/site-packages (from tensorboard<1.8.0,>=1.7.0->tensorflow<1.8,>=1.7->mlagents==0.7.0) (3.1.1)\n",
      "Requirement already satisfied, skipping upgrade: html5lib==0.9999999 in /Library/Frameworks/Python.framework/Versions/3.6/lib/python3.6/site-packages (from tensorboard<1.8.0,>=1.7.0->tensorflow<1.8,>=1.7->mlagents==0.7.0) (0.9999999)\n",
      "Requirement already satisfied, skipping upgrade: importlib-metadata>=0.12 in /Library/Frameworks/Python.framework/Versions/3.6/lib/python3.6/site-packages (from pluggy>=0.7->pytest<4.0.0,>=3.2.2->mlagents==0.7.0) (0.18)\n",
      "Requirement already satisfied, skipping upgrade: decorator in /Library/Frameworks/Python.framework/Versions/3.6/lib/python3.6/site-packages (from traitlets>=4.2.1->notebook->jupyter->mlagents==0.7.0) (4.4.0)\n",
      "Requirement already satisfied, skipping upgrade: MarkupSafe>=0.23 in /Library/Frameworks/Python.framework/Versions/3.6/lib/python3.6/site-packages (from jinja2->notebook->jupyter->mlagents==0.7.0) (1.1.1)\n",
      "Requirement already satisfied, skipping upgrade: jsonschema!=2.5.0,>=2.4 in /Library/Frameworks/Python.framework/Versions/3.6/lib/python3.6/site-packages (from nbformat->notebook->jupyter->mlagents==0.7.0) (3.0.1)\n",
      "Requirement already satisfied, skipping upgrade: ptyprocess; os_name != \"nt\" in /Library/Frameworks/Python.framework/Versions/3.6/lib/python3.6/site-packages (from terminado>=0.8.1->notebook->jupyter->mlagents==0.7.0) (0.6.0)\n",
      "Requirement already satisfied, skipping upgrade: backcall in /Library/Frameworks/Python.framework/Versions/3.6/lib/python3.6/site-packages (from ipython>=5.0.0->ipykernel->jupyter->mlagents==0.7.0) (0.1.0)\n",
      "Requirement already satisfied, skipping upgrade: pickleshare in /Library/Frameworks/Python.framework/Versions/3.6/lib/python3.6/site-packages (from ipython>=5.0.0->ipykernel->jupyter->mlagents==0.7.0) (0.7.5)\n",
      "Requirement already satisfied, skipping upgrade: jedi>=0.10 in /Library/Frameworks/Python.framework/Versions/3.6/lib/python3.6/site-packages (from ipython>=5.0.0->ipykernel->jupyter->mlagents==0.7.0) (0.14.0)\n",
      "Requirement already satisfied, skipping upgrade: appnope; sys_platform == \"darwin\" in /Library/Frameworks/Python.framework/Versions/3.6/lib/python3.6/site-packages (from ipython>=5.0.0->ipykernel->jupyter->mlagents==0.7.0) (0.1.0)\n",
      "Requirement already satisfied, skipping upgrade: pexpect; sys_platform != \"win32\" in /Library/Frameworks/Python.framework/Versions/3.6/lib/python3.6/site-packages (from ipython>=5.0.0->ipykernel->jupyter->mlagents==0.7.0) (4.7.0)\n",
      "Requirement already satisfied, skipping upgrade: wcwidth in /Library/Frameworks/Python.framework/Versions/3.6/lib/python3.6/site-packages (from prompt-toolkit<2.1.0,>=2.0.0->jupyter-console->jupyter->mlagents==0.7.0) (0.1.7)\n",
      "Requirement already satisfied, skipping upgrade: zipp>=0.5 in /Library/Frameworks/Python.framework/Versions/3.6/lib/python3.6/site-packages (from importlib-metadata>=0.12->pluggy>=0.7->pytest<4.0.0,>=3.2.2->mlagents==0.7.0) (0.5.1)\n",
      "Requirement already satisfied, skipping upgrade: pyrsistent>=0.14.0 in /Library/Frameworks/Python.framework/Versions/3.6/lib/python3.6/site-packages (from jsonschema!=2.5.0,>=2.4->nbformat->notebook->jupyter->mlagents==0.7.0) (0.15.3)\n",
      "Requirement already satisfied, skipping upgrade: parso>=0.3.0 in /Library/Frameworks/Python.framework/Versions/3.6/lib/python3.6/site-packages (from jedi>=0.10->ipython>=5.0.0->ipykernel->jupyter->mlagents==0.7.0) (0.5.0)\n",
      "Installing collected packages: mlagents\n",
      "  Found existing installation: mlagents 0.8.2\n",
      "    Uninstalling mlagents-0.8.2:\n",
      "      Successfully uninstalled mlagents-0.8.2\n",
      "Successfully installed mlagents-0.7.0\n",
      "\u001b[33mYou are using pip version 18.1, however version 19.1.1 is available.\n",
      "You should consider upgrading via the 'pip install --upgrade pip' command.\u001b[0m\n"
     ]
    }
   ],
   "source": [
    "!pip3 install --upgrade mlagents==0.7.0"
   ]
  },
  {
   "cell_type": "code",
   "execution_count": 11,
   "metadata": {},
   "outputs": [
    {
     "name": "stdout",
     "output_type": "stream",
     "text": [
      "Collecting mlagents==0.4.0\n",
      "  Using cached https://files.pythonhosted.org/packages/88/ad/3038b9bc0fffbaf0fa45fb88f6a0802d069131c3fc9873d60a11328b3b9f/mlagents-0.4.0-py3-none-any.whl\n",
      "Requirement already satisfied, skipping upgrade: docopt in /Library/Frameworks/Python.framework/Versions/3.6/lib/python3.6/site-packages (from mlagents==0.4.0) (0.6.2)\n",
      "Requirement already satisfied, skipping upgrade: matplotlib in /Library/Frameworks/Python.framework/Versions/3.6/lib/python3.6/site-packages (from mlagents==0.4.0) (3.1.1)\n",
      "Requirement already satisfied, skipping upgrade: Pillow>=4.2.1 in /Library/Frameworks/Python.framework/Versions/3.6/lib/python3.6/site-packages (from mlagents==0.4.0) (5.4.1)\n",
      "Requirement already satisfied, skipping upgrade: tensorflow==1.7.1 in /Library/Frameworks/Python.framework/Versions/3.6/lib/python3.6/site-packages (from mlagents==0.4.0) (1.7.1)\n",
      "Requirement already satisfied, skipping upgrade: grpcio==1.11.0 in /Library/Frameworks/Python.framework/Versions/3.6/lib/python3.6/site-packages (from mlagents==0.4.0) (1.11.0)\n",
      "Requirement already satisfied, skipping upgrade: jupyter in /Library/Frameworks/Python.framework/Versions/3.6/lib/python3.6/site-packages (from mlagents==0.4.0) (1.0.0)\n",
      "Requirement already satisfied, skipping upgrade: pyyaml in /Library/Frameworks/Python.framework/Versions/3.6/lib/python3.6/site-packages (from mlagents==0.4.0) (5.1.1)\n",
      "Collecting protobuf==3.5.2 (from mlagents==0.4.0)\n",
      "  Using cached https://files.pythonhosted.org/packages/c4/7b/fbf783beb1c9d1766c64a9f4b4b80fd3f8732470697d01b3eb824d188486/protobuf-3.5.2-cp36-cp36m-macosx_10_6_intel.macosx_10_9_intel.macosx_10_9_x86_64.macosx_10_10_intel.macosx_10_10_x86_64.whl\n",
      "Requirement already satisfied, skipping upgrade: pytest>=3.2.2 in /Library/Frameworks/Python.framework/Versions/3.6/lib/python3.6/site-packages (from mlagents==0.4.0) (3.10.1)\n",
      "Requirement already satisfied, skipping upgrade: numpy>=1.11.0 in /Library/Frameworks/Python.framework/Versions/3.6/lib/python3.6/site-packages (from mlagents==0.4.0) (1.14.5)\n",
      "Requirement already satisfied, skipping upgrade: pyparsing!=2.0.4,!=2.1.2,!=2.1.6,>=2.0.1 in /Library/Frameworks/Python.framework/Versions/3.6/lib/python3.6/site-packages (from matplotlib->mlagents==0.4.0) (2.4.0)\n",
      "Requirement already satisfied, skipping upgrade: python-dateutil>=2.1 in /Library/Frameworks/Python.framework/Versions/3.6/lib/python3.6/site-packages (from matplotlib->mlagents==0.4.0) (2.8.0)\n",
      "Requirement already satisfied, skipping upgrade: cycler>=0.10 in /Library/Frameworks/Python.framework/Versions/3.6/lib/python3.6/site-packages (from matplotlib->mlagents==0.4.0) (0.10.0)\n",
      "Requirement already satisfied, skipping upgrade: kiwisolver>=1.0.1 in /Library/Frameworks/Python.framework/Versions/3.6/lib/python3.6/site-packages (from matplotlib->mlagents==0.4.0) (1.1.0)\n",
      "Requirement already satisfied, skipping upgrade: tensorboard<1.8.0,>=1.7.0 in /Library/Frameworks/Python.framework/Versions/3.6/lib/python3.6/site-packages (from tensorflow==1.7.1->mlagents==0.4.0) (1.7.0)\n",
      "Requirement already satisfied, skipping upgrade: absl-py>=0.1.6 in /Library/Frameworks/Python.framework/Versions/3.6/lib/python3.6/site-packages (from tensorflow==1.7.1->mlagents==0.4.0) (0.7.1)\n",
      "Requirement already satisfied, skipping upgrade: wheel>=0.26 in /Library/Frameworks/Python.framework/Versions/3.6/lib/python3.6/site-packages (from tensorflow==1.7.1->mlagents==0.4.0) (0.33.4)\n",
      "Requirement already satisfied, skipping upgrade: six>=1.10.0 in /Library/Frameworks/Python.framework/Versions/3.6/lib/python3.6/site-packages (from tensorflow==1.7.1->mlagents==0.4.0) (1.12.0)\n",
      "Requirement already satisfied, skipping upgrade: termcolor>=1.1.0 in /Library/Frameworks/Python.framework/Versions/3.6/lib/python3.6/site-packages (from tensorflow==1.7.1->mlagents==0.4.0) (1.1.0)\n",
      "Requirement already satisfied, skipping upgrade: gast>=0.2.0 in /Library/Frameworks/Python.framework/Versions/3.6/lib/python3.6/site-packages (from tensorflow==1.7.1->mlagents==0.4.0) (0.2.2)\n",
      "Requirement already satisfied, skipping upgrade: astor>=0.6.0 in /Library/Frameworks/Python.framework/Versions/3.6/lib/python3.6/site-packages (from tensorflow==1.7.1->mlagents==0.4.0) (0.8.0)\n",
      "Requirement already satisfied, skipping upgrade: notebook in /Library/Frameworks/Python.framework/Versions/3.6/lib/python3.6/site-packages (from jupyter->mlagents==0.4.0) (5.7.8)\n",
      "Requirement already satisfied, skipping upgrade: ipykernel in /Library/Frameworks/Python.framework/Versions/3.6/lib/python3.6/site-packages (from jupyter->mlagents==0.4.0) (5.1.1)\n",
      "Requirement already satisfied, skipping upgrade: ipywidgets in /Library/Frameworks/Python.framework/Versions/3.6/lib/python3.6/site-packages (from jupyter->mlagents==0.4.0) (7.5.0)\n",
      "Requirement already satisfied, skipping upgrade: jupyter-console in /Library/Frameworks/Python.framework/Versions/3.6/lib/python3.6/site-packages (from jupyter->mlagents==0.4.0) (6.0.0)\n",
      "Requirement already satisfied, skipping upgrade: qtconsole in /Library/Frameworks/Python.framework/Versions/3.6/lib/python3.6/site-packages (from jupyter->mlagents==0.4.0) (4.5.1)\n",
      "Requirement already satisfied, skipping upgrade: nbconvert in /Library/Frameworks/Python.framework/Versions/3.6/lib/python3.6/site-packages (from jupyter->mlagents==0.4.0) (5.5.0)\n",
      "Requirement already satisfied, skipping upgrade: setuptools in /Library/Frameworks/Python.framework/Versions/3.6/lib/python3.6/site-packages (from protobuf==3.5.2->mlagents==0.4.0) (40.6.2)\n",
      "Requirement already satisfied, skipping upgrade: attrs>=17.4.0 in /Library/Frameworks/Python.framework/Versions/3.6/lib/python3.6/site-packages (from pytest>=3.2.2->mlagents==0.4.0) (19.1.0)\n",
      "Requirement already satisfied, skipping upgrade: atomicwrites>=1.0 in /Library/Frameworks/Python.framework/Versions/3.6/lib/python3.6/site-packages (from pytest>=3.2.2->mlagents==0.4.0) (1.3.0)\n",
      "Requirement already satisfied, skipping upgrade: pluggy>=0.7 in /Library/Frameworks/Python.framework/Versions/3.6/lib/python3.6/site-packages (from pytest>=3.2.2->mlagents==0.4.0) (0.12.0)\n",
      "Requirement already satisfied, skipping upgrade: more-itertools>=4.0.0 in /Library/Frameworks/Python.framework/Versions/3.6/lib/python3.6/site-packages (from pytest>=3.2.2->mlagents==0.4.0) (7.1.0)\n",
      "Requirement already satisfied, skipping upgrade: py>=1.5.0 in /Library/Frameworks/Python.framework/Versions/3.6/lib/python3.6/site-packages (from pytest>=3.2.2->mlagents==0.4.0) (1.8.0)\n",
      "Requirement already satisfied, skipping upgrade: markdown>=2.6.8 in /Library/Frameworks/Python.framework/Versions/3.6/lib/python3.6/site-packages (from tensorboard<1.8.0,>=1.7.0->tensorflow==1.7.1->mlagents==0.4.0) (3.1.1)\n",
      "Requirement already satisfied, skipping upgrade: html5lib==0.9999999 in /Library/Frameworks/Python.framework/Versions/3.6/lib/python3.6/site-packages (from tensorboard<1.8.0,>=1.7.0->tensorflow==1.7.1->mlagents==0.4.0) (0.9999999)\n",
      "Requirement already satisfied, skipping upgrade: bleach==1.5.0 in /Library/Frameworks/Python.framework/Versions/3.6/lib/python3.6/site-packages (from tensorboard<1.8.0,>=1.7.0->tensorflow==1.7.1->mlagents==0.4.0) (1.5.0)\n",
      "Requirement already satisfied, skipping upgrade: werkzeug>=0.11.10 in /Library/Frameworks/Python.framework/Versions/3.6/lib/python3.6/site-packages (from tensorboard<1.8.0,>=1.7.0->tensorflow==1.7.1->mlagents==0.4.0) (0.15.4)\n",
      "Requirement already satisfied, skipping upgrade: ipython-genutils in /Library/Frameworks/Python.framework/Versions/3.6/lib/python3.6/site-packages (from notebook->jupyter->mlagents==0.4.0) (0.2.0)\n",
      "Requirement already satisfied, skipping upgrade: nbformat in /Library/Frameworks/Python.framework/Versions/3.6/lib/python3.6/site-packages (from notebook->jupyter->mlagents==0.4.0) (4.4.0)\n",
      "Requirement already satisfied, skipping upgrade: terminado>=0.8.1 in /Library/Frameworks/Python.framework/Versions/3.6/lib/python3.6/site-packages (from notebook->jupyter->mlagents==0.4.0) (0.8.2)\n",
      "Requirement already satisfied, skipping upgrade: jupyter-core>=4.4.0 in /Library/Frameworks/Python.framework/Versions/3.6/lib/python3.6/site-packages (from notebook->jupyter->mlagents==0.4.0) (4.5.0)\n",
      "Requirement already satisfied, skipping upgrade: jinja2 in /Library/Frameworks/Python.framework/Versions/3.6/lib/python3.6/site-packages (from notebook->jupyter->mlagents==0.4.0) (2.10.1)\n",
      "Requirement already satisfied, skipping upgrade: jupyter-client>=5.2.0 in /Library/Frameworks/Python.framework/Versions/3.6/lib/python3.6/site-packages (from notebook->jupyter->mlagents==0.4.0) (5.2.4)\n",
      "Requirement already satisfied, skipping upgrade: traitlets>=4.2.1 in /Library/Frameworks/Python.framework/Versions/3.6/lib/python3.6/site-packages (from notebook->jupyter->mlagents==0.4.0) (4.3.2)\n",
      "Requirement already satisfied, skipping upgrade: prometheus-client in /Library/Frameworks/Python.framework/Versions/3.6/lib/python3.6/site-packages (from notebook->jupyter->mlagents==0.4.0) (0.7.1)\n"
     ]
    },
    {
     "name": "stdout",
     "output_type": "stream",
     "text": [
      "Requirement already satisfied, skipping upgrade: Send2Trash in /Library/Frameworks/Python.framework/Versions/3.6/lib/python3.6/site-packages (from notebook->jupyter->mlagents==0.4.0) (1.5.0)\n",
      "Requirement already satisfied, skipping upgrade: pyzmq>=17 in /Library/Frameworks/Python.framework/Versions/3.6/lib/python3.6/site-packages (from notebook->jupyter->mlagents==0.4.0) (18.0.2)\n",
      "Requirement already satisfied, skipping upgrade: tornado<7,>=4.1 in /Library/Frameworks/Python.framework/Versions/3.6/lib/python3.6/site-packages (from notebook->jupyter->mlagents==0.4.0) (6.0.3)\n",
      "Requirement already satisfied, skipping upgrade: ipython>=5.0.0 in /Library/Frameworks/Python.framework/Versions/3.6/lib/python3.6/site-packages (from ipykernel->jupyter->mlagents==0.4.0) (7.6.1)\n",
      "Requirement already satisfied, skipping upgrade: widgetsnbextension~=3.5.0 in /Library/Frameworks/Python.framework/Versions/3.6/lib/python3.6/site-packages (from ipywidgets->jupyter->mlagents==0.4.0) (3.5.0)\n",
      "Requirement already satisfied, skipping upgrade: prompt-toolkit<2.1.0,>=2.0.0 in /Library/Frameworks/Python.framework/Versions/3.6/lib/python3.6/site-packages (from jupyter-console->jupyter->mlagents==0.4.0) (2.0.9)\n",
      "Requirement already satisfied, skipping upgrade: pygments in /Library/Frameworks/Python.framework/Versions/3.6/lib/python3.6/site-packages (from jupyter-console->jupyter->mlagents==0.4.0) (2.4.2)\n",
      "Requirement already satisfied, skipping upgrade: pandocfilters>=1.4.1 in /Library/Frameworks/Python.framework/Versions/3.6/lib/python3.6/site-packages (from nbconvert->jupyter->mlagents==0.4.0) (1.4.2)\n",
      "Requirement already satisfied, skipping upgrade: defusedxml in /Library/Frameworks/Python.framework/Versions/3.6/lib/python3.6/site-packages (from nbconvert->jupyter->mlagents==0.4.0) (0.6.0)\n",
      "Requirement already satisfied, skipping upgrade: entrypoints>=0.2.2 in /Library/Frameworks/Python.framework/Versions/3.6/lib/python3.6/site-packages (from nbconvert->jupyter->mlagents==0.4.0) (0.3)\n",
      "Requirement already satisfied, skipping upgrade: testpath in /Library/Frameworks/Python.framework/Versions/3.6/lib/python3.6/site-packages (from nbconvert->jupyter->mlagents==0.4.0) (0.4.2)\n",
      "Requirement already satisfied, skipping upgrade: mistune>=0.8.1 in /Library/Frameworks/Python.framework/Versions/3.6/lib/python3.6/site-packages (from nbconvert->jupyter->mlagents==0.4.0) (0.8.4)\n",
      "Requirement already satisfied, skipping upgrade: importlib-metadata>=0.12 in /Library/Frameworks/Python.framework/Versions/3.6/lib/python3.6/site-packages (from pluggy>=0.7->pytest>=3.2.2->mlagents==0.4.0) (0.18)\n",
      "Requirement already satisfied, skipping upgrade: jsonschema!=2.5.0,>=2.4 in /Library/Frameworks/Python.framework/Versions/3.6/lib/python3.6/site-packages (from nbformat->notebook->jupyter->mlagents==0.4.0) (3.0.1)\n",
      "Requirement already satisfied, skipping upgrade: ptyprocess; os_name != \"nt\" in /Library/Frameworks/Python.framework/Versions/3.6/lib/python3.6/site-packages (from terminado>=0.8.1->notebook->jupyter->mlagents==0.4.0) (0.6.0)\n",
      "Requirement already satisfied, skipping upgrade: MarkupSafe>=0.23 in /Library/Frameworks/Python.framework/Versions/3.6/lib/python3.6/site-packages (from jinja2->notebook->jupyter->mlagents==0.4.0) (1.1.1)\n",
      "Requirement already satisfied, skipping upgrade: decorator in /Library/Frameworks/Python.framework/Versions/3.6/lib/python3.6/site-packages (from traitlets>=4.2.1->notebook->jupyter->mlagents==0.4.0) (4.4.0)\n",
      "Requirement already satisfied, skipping upgrade: pickleshare in /Library/Frameworks/Python.framework/Versions/3.6/lib/python3.6/site-packages (from ipython>=5.0.0->ipykernel->jupyter->mlagents==0.4.0) (0.7.5)\n",
      "Requirement already satisfied, skipping upgrade: pexpect; sys_platform != \"win32\" in /Library/Frameworks/Python.framework/Versions/3.6/lib/python3.6/site-packages (from ipython>=5.0.0->ipykernel->jupyter->mlagents==0.4.0) (4.7.0)\n",
      "Requirement already satisfied, skipping upgrade: appnope; sys_platform == \"darwin\" in /Library/Frameworks/Python.framework/Versions/3.6/lib/python3.6/site-packages (from ipython>=5.0.0->ipykernel->jupyter->mlagents==0.4.0) (0.1.0)\n",
      "Requirement already satisfied, skipping upgrade: backcall in /Library/Frameworks/Python.framework/Versions/3.6/lib/python3.6/site-packages (from ipython>=5.0.0->ipykernel->jupyter->mlagents==0.4.0) (0.1.0)\n",
      "Requirement already satisfied, skipping upgrade: jedi>=0.10 in /Library/Frameworks/Python.framework/Versions/3.6/lib/python3.6/site-packages (from ipython>=5.0.0->ipykernel->jupyter->mlagents==0.4.0) (0.14.0)\n",
      "Requirement already satisfied, skipping upgrade: wcwidth in /Library/Frameworks/Python.framework/Versions/3.6/lib/python3.6/site-packages (from prompt-toolkit<2.1.0,>=2.0.0->jupyter-console->jupyter->mlagents==0.4.0) (0.1.7)\n",
      "Requirement already satisfied, skipping upgrade: zipp>=0.5 in /Library/Frameworks/Python.framework/Versions/3.6/lib/python3.6/site-packages (from importlib-metadata>=0.12->pluggy>=0.7->pytest>=3.2.2->mlagents==0.4.0) (0.5.1)\n",
      "Requirement already satisfied, skipping upgrade: pyrsistent>=0.14.0 in /Library/Frameworks/Python.framework/Versions/3.6/lib/python3.6/site-packages (from jsonschema!=2.5.0,>=2.4->nbformat->notebook->jupyter->mlagents==0.4.0) (0.15.3)\n",
      "Requirement already satisfied, skipping upgrade: parso>=0.3.0 in /Library/Frameworks/Python.framework/Versions/3.6/lib/python3.6/site-packages (from jedi>=0.10->ipython>=5.0.0->ipykernel->jupyter->mlagents==0.4.0) (0.5.0)\n",
      "\u001b[31mmlagents-envs 0.8.2 has requirement protobuf<3.7,>=3.6, but you'll have protobuf 3.5.2 which is incompatible.\u001b[0m\n",
      "Installing collected packages: protobuf, mlagents\n",
      "  Found existing installation: protobuf 3.6.1\n",
      "    Uninstalling protobuf-3.6.1:\n",
      "      Successfully uninstalled protobuf-3.6.1\n",
      "  Found existing installation: mlagents 0.8.2\n",
      "    Uninstalling mlagents-0.8.2:\n",
      "      Successfully uninstalled mlagents-0.8.2\n",
      "Successfully installed mlagents-0.4.0 protobuf-3.5.2\n",
      "\u001b[33mYou are using pip version 18.1, however version 19.1.1 is available.\n",
      "You should consider upgrading via the 'pip install --upgrade pip' command.\u001b[0m\n"
     ]
    }
   ],
   "source": [
    "!pip3 install --upgrade mlagents==0.4.0"
   ]
  },
  {
   "cell_type": "code",
   "execution_count": 3,
   "metadata": {},
   "outputs": [
    {
     "name": "stdout",
     "output_type": "stream",
     "text": [
      "Requirement already up-to-date: mlagents_envs in /Library/Frameworks/Python.framework/Versions/3.6/lib/python3.6/site-packages (0.8.2)\n",
      "Requirement already satisfied, skipping upgrade: grpcio<1.12.0,>=1.11.0 in /Library/Frameworks/Python.framework/Versions/3.6/lib/python3.6/site-packages (from mlagents_envs) (1.11.0)\n",
      "Requirement already satisfied, skipping upgrade: pytest<4.0.0,>=3.2.2 in /Library/Frameworks/Python.framework/Versions/3.6/lib/python3.6/site-packages (from mlagents_envs) (3.10.1)\n",
      "Requirement already satisfied, skipping upgrade: Pillow<=5.4.1,>=4.2.1 in /Library/Frameworks/Python.framework/Versions/3.6/lib/python3.6/site-packages (from mlagents_envs) (5.4.1)\n",
      "Requirement already satisfied, skipping upgrade: numpy<=1.16.1,>=1.13.3 in /Library/Frameworks/Python.framework/Versions/3.6/lib/python3.6/site-packages (from mlagents_envs) (1.14.5)\n",
      "Requirement already satisfied, skipping upgrade: cloudpickle==0.8.1 in /Library/Frameworks/Python.framework/Versions/3.6/lib/python3.6/site-packages (from mlagents_envs) (0.8.1)\n",
      "Requirement already satisfied, skipping upgrade: protobuf<3.7,>=3.6 in /Library/Frameworks/Python.framework/Versions/3.6/lib/python3.6/site-packages (from mlagents_envs) (3.6.1)\n",
      "Requirement already satisfied, skipping upgrade: six>=1.5.2 in /Library/Frameworks/Python.framework/Versions/3.6/lib/python3.6/site-packages (from grpcio<1.12.0,>=1.11.0->mlagents_envs) (1.12.0)\n",
      "Requirement already satisfied, skipping upgrade: atomicwrites>=1.0 in /Library/Frameworks/Python.framework/Versions/3.6/lib/python3.6/site-packages (from pytest<4.0.0,>=3.2.2->mlagents_envs) (1.3.0)\n",
      "Requirement already satisfied, skipping upgrade: setuptools in /Library/Frameworks/Python.framework/Versions/3.6/lib/python3.6/site-packages (from pytest<4.0.0,>=3.2.2->mlagents_envs) (40.6.2)\n",
      "Requirement already satisfied, skipping upgrade: more-itertools>=4.0.0 in /Library/Frameworks/Python.framework/Versions/3.6/lib/python3.6/site-packages (from pytest<4.0.0,>=3.2.2->mlagents_envs) (7.1.0)\n",
      "Requirement already satisfied, skipping upgrade: pluggy>=0.7 in /Library/Frameworks/Python.framework/Versions/3.6/lib/python3.6/site-packages (from pytest<4.0.0,>=3.2.2->mlagents_envs) (0.12.0)\n",
      "Requirement already satisfied, skipping upgrade: attrs>=17.4.0 in /Library/Frameworks/Python.framework/Versions/3.6/lib/python3.6/site-packages (from pytest<4.0.0,>=3.2.2->mlagents_envs) (19.1.0)\n",
      "Requirement already satisfied, skipping upgrade: py>=1.5.0 in /Library/Frameworks/Python.framework/Versions/3.6/lib/python3.6/site-packages (from pytest<4.0.0,>=3.2.2->mlagents_envs) (1.8.0)\n",
      "Requirement already satisfied, skipping upgrade: importlib-metadata>=0.12 in /Library/Frameworks/Python.framework/Versions/3.6/lib/python3.6/site-packages (from pluggy>=0.7->pytest<4.0.0,>=3.2.2->mlagents_envs) (0.18)\n",
      "Requirement already satisfied, skipping upgrade: zipp>=0.5 in /Library/Frameworks/Python.framework/Versions/3.6/lib/python3.6/site-packages (from importlib-metadata>=0.12->pluggy>=0.7->pytest<4.0.0,>=3.2.2->mlagents_envs) (0.5.1)\n",
      "\u001b[33mYou are using pip version 18.1, however version 19.1.1 is available.\n",
      "You should consider upgrading via the 'pip install --upgrade pip' command.\u001b[0m\n"
     ]
    }
   ],
   "source": [
    "!pip3 install --upgrade mlagents_envs"
   ]
  },
  {
   "cell_type": "code",
   "execution_count": 2,
   "metadata": {},
   "outputs": [],
   "source": [
    "from unityagents import UnityEnvironment \n",
    "import numpy as np"
   ]
  },
  {
   "cell_type": "markdown",
   "metadata": {},
   "source": [
    "Next, we will start the environment!  **_Before running the code cell below_**, change the `file_name` parameter to match the location of the Unity environment that you downloaded.\n",
    "\n",
    "- **Mac**: `\"path/to/Banana.app\"`\n",
    "- **Windows** (x86): `\"path/to/Banana_Windows_x86/Banana.exe\"`\n",
    "- **Windows** (x86_64): `\"path/to/Banana_Windows_x86_64/Banana.exe\"`\n",
    "- **Linux** (x86): `\"path/to/Banana_Linux/Banana.x86\"`\n",
    "- **Linux** (x86_64): `\"path/to/Banana_Linux/Banana.x86_64\"`\n",
    "- **Linux** (x86, headless): `\"path/to/Banana_Linux_NoVis/Banana.x86\"`\n",
    "- **Linux** (x86_64, headless): `\"path/to/Banana_Linux_NoVis/Banana.x86_64\"`\n",
    "\n",
    "For instance, if you are using a Mac, then you downloaded `Banana.app`.  If this file is in the same folder as the notebook, then the line below should appear as follows:\n",
    "```\n",
    "env = UnityEnvironment(file_name=\"Banana.app\")\n",
    "```"
   ]
  },
  {
   "cell_type": "code",
   "execution_count": 3,
   "metadata": {},
   "outputs": [
    {
     "name": "stderr",
     "output_type": "stream",
     "text": [
      "INFO:unityagents:\n",
      "'Academy' started successfully!\n",
      "Unity Academy name: Academy\n",
      "        Number of Brains: 1\n",
      "        Number of External Brains : 1\n",
      "        Lesson number : 0\n",
      "        Reset Parameters :\n",
      "\t\t\n",
      "Unity brain name: BananaBrain\n",
      "        Number of Visual Observations (per agent): 0\n",
      "        Vector Observation space type: continuous\n",
      "        Vector Observation space size (per agent): 37\n",
      "        Number of stacked Vector Observation: 1\n",
      "        Vector Action space type: discrete\n",
      "        Vector Action space size (per agent): 4\n",
      "        Vector Action descriptions: , , , \n"
     ]
    }
   ],
   "source": [
    "env = UnityEnvironment(file_name=\"/Users/anantnaw/Downloads/deep-reinforcement-learning-master/p1_navigation/Banana.app\")"
   ]
  },
  {
   "cell_type": "markdown",
   "metadata": {},
   "source": [
    "Environments contain **_brains_** which are responsible for deciding the actions of their associated agents. Here we check for the first brain available, and set it as the default brain we will be controlling from Python."
   ]
  },
  {
   "cell_type": "code",
   "execution_count": 4,
   "metadata": {},
   "outputs": [],
   "source": [
    "# get the default brain\n",
    "brain_name = env.brain_names[0]\n",
    "brain = env.brains[brain_name]"
   ]
  },
  {
   "cell_type": "markdown",
   "metadata": {},
   "source": [
    "### 2. Examine the State and Action Spaces\n",
    "\n",
    "The simulation contains a single agent that navigates a large environment.  At each time step, it has four actions at its disposal:\n",
    "- `0` - walk forward \n",
    "- `1` - walk backward\n",
    "- `2` - turn left\n",
    "- `3` - turn right\n",
    "\n",
    "The state space has `37` dimensions and contains the agent's velocity, along with ray-based perception of objects around agent's forward direction.  A reward of `+1` is provided for collecting a yellow banana, and a reward of `-1` is provided for collecting a blue banana. \n",
    "\n",
    "Run the code cell below to print some information about the environment."
   ]
  },
  {
   "cell_type": "code",
   "execution_count": 5,
   "metadata": {},
   "outputs": [
    {
     "name": "stdout",
     "output_type": "stream",
     "text": [
      "Number of agents: 1\n",
      "Number of actions: 4\n",
      "States look like: [0.         1.         0.         0.         0.16895212 0.\n",
      " 1.         0.         0.         0.20073597 1.         0.\n",
      " 0.         0.         0.12865657 0.         1.         0.\n",
      " 0.         0.14938059 1.         0.         0.         0.\n",
      " 0.58185619 0.         1.         0.         0.         0.16089135\n",
      " 0.         1.         0.         0.         0.31775284 0.\n",
      " 0.        ]\n",
      "States have length: 37\n"
     ]
    }
   ],
   "source": [
    "# reset the environment\n",
    "env_info = env.reset(train_mode=True)[brain_name]\n",
    "\n",
    "# number of agents in the environment\n",
    "print('Number of agents:', len(env_info.agents))\n",
    "\n",
    "# number of actions\n",
    "action_size = brain.vector_action_space_size\n",
    "print('Number of actions:', action_size)\n",
    "\n",
    "# examine the state space \n",
    "state = env_info.vector_observations[0]\n",
    "print('States look like:', state)\n",
    "state_size = len(state)\n",
    "print('States have length:', state_size)"
   ]
  },
  {
   "cell_type": "markdown",
   "metadata": {},
   "source": [
    "### 3. Initialize model and the act function for the trained agent\n",
    "\n",
    "The model loads a trained pytroch network, which takes a state and outputs a Value for each of the 4 actions, as well as the average value of the state. This is in accordance with the duelling DQL architecture. The network itself was trained using the concepts of Deep Q- learning, with fixed targets, Double DQN, dueling DQN as well as experience replay."
   ]
  },
  {
   "cell_type": "code",
   "execution_count": 10,
   "metadata": {},
   "outputs": [
    {
     "data": {
      "text/plain": [
       "QNetwork(\n",
       "  (fc1): Linear(in_features=37, out_features=64, bias=True)\n",
       "  (fc2): Linear(in_features=64, out_features=64, bias=True)\n",
       "  (fc3): Linear(in_features=64, out_features=5, bias=True)\n",
       ")"
      ]
     },
     "execution_count": 10,
     "metadata": {},
     "output_type": "execute_result"
    }
   ],
   "source": [
    "import torch\n",
    "import torch.nn as nn\n",
    "import torch.nn.functional as F\n",
    "\n",
    "class QNetwork(nn.Module):\n",
    "    \"\"\"Actor (Policy) Model.\"\"\"\n",
    "\n",
    "    def __init__(self, state_size, action_size, seed, fc1_units=64, fc2_units=64):\n",
    "        \"\"\"Initialize parameters and build model.\n",
    "        Params\n",
    "        ======\n",
    "            state_size (int): Dimension of each state\n",
    "            action_size (int): Dimension of each action\n",
    "            seed (int): Random seed\n",
    "            fc1_units (int): Number of nodes in first hidden layer\n",
    "            fc2_units (int): Number of nodes in second hidden layer\n",
    "        \"\"\"\n",
    "        super(QNetwork, self).__init__()\n",
    "        self.seed = torch.manual_seed(seed)\n",
    "        self.fc1 = nn.Linear(state_size, fc1_units)\n",
    "        self.fc2 = nn.Linear(fc1_units, fc2_units)\n",
    "        self.fc3 = nn.Linear(fc2_units, action_size)\n",
    "\n",
    "    def forward(self, state):\n",
    "        \"\"\"Build a network that maps state -> action values.\"\"\"\n",
    "        x = F.relu(self.fc1(state))\n",
    "        x = F.relu(self.fc2(x))\n",
    "        return self.fc3(x)\n",
    "model = QNetwork(37,5,0)\n",
    "model.load_state_dict(torch.load(\"checkpoint_v2.pth\",map_location='cpu'))\n",
    "model.eval()"
   ]
  },
  {
   "cell_type": "code",
   "execution_count": 11,
   "metadata": {},
   "outputs": [],
   "source": [
    "device = torch.device(\"cuda:0\" if torch.cuda.is_available() else \"cpu\")\n",
    "def act(state, eps=0.):\n",
    "    \"\"\"Returns actions for given state as per current policy.\n",
    "\n",
    "    Params\n",
    "    ======\n",
    "        state (array_like): current state\n",
    "        eps (float): epsilon, for epsilon-greedy action selection\n",
    "    \"\"\"\n",
    "    state = torch.from_numpy(state).float().unsqueeze(0).to(device)\n",
    "    with torch.no_grad():\n",
    "        action_values = model(state)\n",
    "        action_values = action_values[:, :-1]\n",
    "\n",
    "    # Epsilon-greedy action selection\n",
    "    \n",
    "    return np.argmax(action_values.cpu().data.numpy())\n",
    "    "
   ]
  },
  {
   "cell_type": "markdown",
   "metadata": {},
   "source": [
    "### 4. Take Random Actions in the Environment\n",
    "\n",
    "In the next code cell, you will learn how to use the Python API to control the agent and receive feedback from the environment.\n",
    "\n",
    "Once this cell is executed, you will watch the agent's performance, if it selects an action (uniformly) at random with each time step.  A window should pop up that allows you to observe the agent, as it moves through the environment.  \n",
    "\n",
    "Of course, as part of the project, you'll have to change the code so that the agent is able to use its experience to gradually choose better actions when interacting with the environment!"
   ]
  },
  {
   "cell_type": "code",
   "execution_count": 9,
   "metadata": {},
   "outputs": [
    {
     "name": "stdout",
     "output_type": "stream",
     "text": [
      "Score: -1.0\n"
     ]
    }
   ],
   "source": [
    "env_info = env.reset(train_mode=False)[brain_name] # reset the environment\n",
    "state = env_info.vector_observations[0]            # get the current state\n",
    "score = 0                                          # initialize the score\n",
    "while True:\n",
    "    action = np.random.randint(4)     # select an action\n",
    "    env_info = env.step(action)[brain_name]        # send the action to the environment\n",
    "    next_state = env_info.vector_observations[0]   # get the next state\n",
    "    reward = env_info.rewards[0]                   # get the reward\n",
    "    done = env_info.local_done[0]                  # see if episode has finished\n",
    "    score += reward                                # update the score\n",
    "    state = next_state                             # roll over the state to next time step\n",
    "    if done:                                       # exit loop if episode finished\n",
    "        break\n",
    "    \n",
    "print(\"Score: {}\".format(score))"
   ]
  },
  {
   "cell_type": "markdown",
   "metadata": {},
   "source": [
    "## Trained Agent\n",
    "\n",
    "In this step you will use the trained model in the act function, to choose the optimal set of of actions at each step."
   ]
  },
  {
   "cell_type": "code",
   "execution_count": 13,
   "metadata": {},
   "outputs": [
    {
     "name": "stdout",
     "output_type": "stream",
     "text": [
      "Score: 17.0\n"
     ]
    }
   ],
   "source": [
    "env_info = env.reset(train_mode=False)[brain_name] # reset the environment\n",
    "state = env_info.vector_observations[0]            # get the current state\n",
    "score = 0                                          # initialize the score\n",
    "while True:\n",
    "    action = act(state)      # select an action\n",
    "    env_info = env.step(action)[brain_name]        # send the action to the environment\n",
    "    next_state = env_info.vector_observations[0]   # get the next state\n",
    "    reward = env_info.rewards[0]                   # get the reward\n",
    "    done = env_info.local_done[0]                  # see if episode has finished\n",
    "    score += reward                                # update the score\n",
    "    state = next_state                             # roll over the state to next time step\n",
    "    if done:                                       # exit loop if episode finished\n",
    "        break\n",
    "    \n",
    "print(\"Score: {}\".format(score))"
   ]
  },
  {
   "cell_type": "markdown",
   "metadata": {},
   "source": [
    "When finished, you can close the environment."
   ]
  },
  {
   "cell_type": "code",
   "execution_count": 7,
   "metadata": {},
   "outputs": [],
   "source": [
    "env.close()"
   ]
  }
 ],
 "metadata": {
  "kernelspec": {
   "display_name": "Python 3",
   "language": "python",
   "name": "python3"
  },
  "language_info": {
   "codemirror_mode": {
    "name": "ipython",
    "version": 3
   },
   "file_extension": ".py",
   "mimetype": "text/x-python",
   "name": "python",
   "nbconvert_exporter": "python",
   "pygments_lexer": "ipython3",
   "version": "3.6.8"
  }
 },
 "nbformat": 4,
 "nbformat_minor": 2
}
